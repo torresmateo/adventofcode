{
 "cells": [
  {
   "cell_type": "code",
   "execution_count": 2,
   "metadata": {},
   "outputs": [],
   "source": [
    "import numpy as np\n",
    "\n",
    "class World(object):\n",
    "\n",
    "    def __init__(self, filename, colour=True):\n",
    "        self.mapfile = open(filename)\n",
    "        self.map = []\n",
    "        self.units = []\n",
    "        self.build_map()\n",
    "        self.colour = colour\n",
    "\n",
    "    def print_status(self, distances=None):\n",
    "        world = ''\n",
    "        if self.colour:\n",
    "            m = {'E':'\\033[32m E|\\033[0m', 'G':'\\033[31m G|\\033[0m', '.':'   ', '#':'\\033[44m   \\033[0m'}\n",
    "            md = {'E':'\\033[32m{d:2}|\\033[0m', 'G':'\\033[31m{d:2}|\\033[0m', '.':'{d:2}|', '#':'\\033[44m   \\033[0m'}\n",
    "        else:\n",
    "            m = {'E':' E|', 'G':' G|', '.':'   ', '#':'###'}\n",
    "            md = {'E':'{d:2}|', 'G':'{d:2}|', '.':'{d:2}|', '#':'###'}\n",
    "\n",
    "        for i in range(len(self.map)):\n",
    "            lifes = ' '\n",
    "            for j in range(len(self.map[i])):\n",
    "                print_terrain = True\n",
    "                if distances != None:\n",
    "                    for d, points in distances.items():\n",
    "                        for p in points:\n",
    "                            if (i, j) == p:\n",
    "                                world += md[str(self.map[i][j])].format(d=d)\n",
    "                                print_terrain = False\n",
    "                                \n",
    "                if print_terrain:\n",
    "                    world += m[str(self.map[i][j])]\n",
    "            world += lifes+'\\n'\n",
    "        print(world)\n",
    "        \n",
    "    def build_map(self):\n",
    "        width = -1\n",
    "        for line in self.mapfile:\n",
    "            r = [c for c in line.strip()]\n",
    "            self.map.append(r)\n",
    "\n",
    "\n",
    "    \n"
   ]
  },
  {
   "cell_type": "code",
   "execution_count": 3,
   "metadata": {},
   "outputs": [
    {
     "name": "stdout",
     "output_type": "stream",
     "text": [
      "\u001b[44m   \u001b[0m\u001b[44m   \u001b[0m   \u001b[44m   \u001b[0m\u001b[44m   \u001b[0m      \u001b[44m   \u001b[0m   \u001b[44m   \u001b[0m\u001b[44m   \u001b[0m\u001b[44m   \u001b[0m\u001b[44m   \u001b[0m         \u001b[44m   \u001b[0m   \u001b[44m   \u001b[0m   \u001b[44m   \u001b[0m\u001b[44m   \u001b[0m\u001b[44m   \u001b[0m\u001b[44m   \u001b[0m \n",
      "\u001b[44m   \u001b[0m\u001b[44m   \u001b[0m   \u001b[44m   \u001b[0m\u001b[44m   \u001b[0m\u001b[44m   \u001b[0m      \u001b[44m   \u001b[0m\u001b[44m   \u001b[0m   \u001b[44m   \u001b[0m\u001b[44m   \u001b[0m\u001b[44m   \u001b[0m\u001b[44m   \u001b[0m\u001b[44m   \u001b[0m\u001b[44m   \u001b[0m\u001b[44m   \u001b[0m      \u001b[44m   \u001b[0m\u001b[44m   \u001b[0m       \n",
      "      \u001b[44m   \u001b[0m\u001b[44m   \u001b[0m\u001b[44m   \u001b[0m\u001b[44m   \u001b[0m\u001b[44m   \u001b[0m\u001b[44m   \u001b[0m   \u001b[44m   \u001b[0m\u001b[44m   \u001b[0m\u001b[44m   \u001b[0m   \u001b[44m   \u001b[0m   \u001b[44m   \u001b[0m\u001b[44m   \u001b[0m   \u001b[44m   \u001b[0m\u001b[44m   \u001b[0m\u001b[44m   \u001b[0m\u001b[44m   \u001b[0m\u001b[44m   \u001b[0m\u001b[44m   \u001b[0m \n",
      "   \u001b[44m   \u001b[0m\u001b[44m   \u001b[0m\u001b[44m   \u001b[0m\u001b[44m   \u001b[0m\u001b[44m   \u001b[0m\u001b[44m   \u001b[0m\u001b[44m   \u001b[0m   \u001b[44m   \u001b[0m\u001b[44m   \u001b[0m\u001b[44m   \u001b[0m\u001b[44m   \u001b[0m   \u001b[44m   \u001b[0m\u001b[44m   \u001b[0m   \u001b[44m   \u001b[0m   \u001b[44m   \u001b[0m\u001b[44m   \u001b[0m\u001b[44m   \u001b[0m   \u001b[44m   \u001b[0m \n",
      "      \u001b[44m   \u001b[0m         \u001b[44m   \u001b[0m\u001b[44m   \u001b[0m   \u001b[44m   \u001b[0m               \u001b[44m   \u001b[0m\u001b[44m   \u001b[0m\u001b[44m   \u001b[0m\u001b[44m   \u001b[0m\u001b[44m   \u001b[0m      \u001b[44m   \u001b[0m\u001b[44m   \u001b[0m \n",
      "\u001b[44m   \u001b[0m      \u001b[44m   \u001b[0m\u001b[44m   \u001b[0m\u001b[44m   \u001b[0m   \u001b[44m   \u001b[0m         \u001b[44m   \u001b[0m      \u001b[44m   \u001b[0m\u001b[44m   \u001b[0m\u001b[44m   \u001b[0m   \u001b[44m   \u001b[0m      \u001b[44m   \u001b[0m       \n",
      "\u001b[44m   \u001b[0m\u001b[44m   \u001b[0m\u001b[44m   \u001b[0m      \u001b[44m   \u001b[0m   \u001b[44m   \u001b[0m\u001b[44m   \u001b[0m   \u001b[44m   \u001b[0m\u001b[44m   \u001b[0m\u001b[44m   \u001b[0m\u001b[44m   \u001b[0m   \u001b[44m   \u001b[0m      \u001b[44m   \u001b[0m\u001b[44m   \u001b[0m      \u001b[44m   \u001b[0m\u001b[44m   \u001b[0m \n",
      "   \u001b[44m   \u001b[0m\u001b[44m   \u001b[0m   \u001b[44m   \u001b[0m\u001b[44m   \u001b[0m            \u001b[44m   \u001b[0m\u001b[44m   \u001b[0m\u001b[44m   \u001b[0m   \u001b[44m   \u001b[0m      \u001b[44m   \u001b[0m            \u001b[44m   \u001b[0m    \n",
      "\u001b[44m   \u001b[0m\u001b[44m   \u001b[0m\u001b[44m   \u001b[0m\u001b[44m   \u001b[0m\u001b[44m   \u001b[0m\u001b[44m   \u001b[0m\u001b[44m   \u001b[0m\u001b[44m   \u001b[0m      \u001b[44m   \u001b[0m\u001b[44m   \u001b[0m\u001b[44m   \u001b[0m\u001b[44m   \u001b[0m\u001b[44m   \u001b[0m      \u001b[44m   \u001b[0m\u001b[44m   \u001b[0m\u001b[44m   \u001b[0m\u001b[44m   \u001b[0m\u001b[44m   \u001b[0m\u001b[44m   \u001b[0m\u001b[44m   \u001b[0m \n",
      "\u001b[44m   \u001b[0m\u001b[44m   \u001b[0m      \u001b[44m   \u001b[0m      \u001b[44m   \u001b[0m\u001b[44m   \u001b[0m   \u001b[44m   \u001b[0m      \u001b[44m   \u001b[0m\u001b[44m   \u001b[0m   \u001b[44m   \u001b[0m   \u001b[44m   \u001b[0m   \u001b[44m   \u001b[0m      \u001b[44m   \u001b[0m \n",
      "\u001b[44m   \u001b[0m\u001b[44m   \u001b[0m   \u001b[44m   \u001b[0m   \u001b[44m   \u001b[0m\u001b[44m   \u001b[0m   \u001b[44m   \u001b[0m\u001b[44m   \u001b[0m\u001b[44m   \u001b[0m\u001b[44m   \u001b[0m\u001b[44m   \u001b[0m\u001b[44m   \u001b[0m   \u001b[44m   \u001b[0m\u001b[44m   \u001b[0m\u001b[44m   \u001b[0m\u001b[44m   \u001b[0m\u001b[44m   \u001b[0m             \n",
      "\u001b[44m   \u001b[0m\u001b[44m   \u001b[0m\u001b[44m   \u001b[0m   \u001b[44m   \u001b[0m\u001b[44m   \u001b[0m         \u001b[44m   \u001b[0m   \u001b[44m   \u001b[0m\u001b[44m   \u001b[0m         \u001b[44m   \u001b[0m   \u001b[44m   \u001b[0m\u001b[44m   \u001b[0m\u001b[44m   \u001b[0m\u001b[44m   \u001b[0m\u001b[44m   \u001b[0m\u001b[44m   \u001b[0m \n",
      "\u001b[44m   \u001b[0m\u001b[44m   \u001b[0m\u001b[44m   \u001b[0m         \u001b[44m   \u001b[0m\u001b[44m   \u001b[0m   \u001b[44m   \u001b[0m\u001b[44m   \u001b[0m\u001b[44m   \u001b[0m\u001b[44m   \u001b[0m      \u001b[44m   \u001b[0m\u001b[44m   \u001b[0m      \u001b[44m   \u001b[0m\u001b[44m   \u001b[0m\u001b[44m   \u001b[0m\u001b[44m   \u001b[0m\u001b[44m   \u001b[0m \n",
      "\u001b[44m   \u001b[0m\u001b[44m   \u001b[0m   \u001b[44m   \u001b[0m         \u001b[44m   \u001b[0m   \u001b[44m   \u001b[0m               \u001b[44m   \u001b[0m\u001b[44m   \u001b[0m\u001b[44m   \u001b[0m\u001b[44m   \u001b[0m\u001b[44m   \u001b[0m\u001b[44m   \u001b[0m   \u001b[44m   \u001b[0m\u001b[44m   \u001b[0m \n",
      "   \u001b[44m   \u001b[0m         \u001b[44m   \u001b[0m\u001b[44m   \u001b[0m\u001b[44m   \u001b[0m\u001b[44m   \u001b[0m      \u001b[44m   \u001b[0m\u001b[44m   \u001b[0m\u001b[44m   \u001b[0m\u001b[44m   \u001b[0m   \u001b[44m   \u001b[0m\u001b[44m   \u001b[0m         \u001b[44m   \u001b[0m\u001b[44m   \u001b[0m    \n",
      "\u001b[44m   \u001b[0m   \u001b[44m   \u001b[0m\u001b[44m   \u001b[0m\u001b[44m   \u001b[0m\u001b[44m   \u001b[0m\u001b[44m   \u001b[0m\u001b[44m   \u001b[0m\u001b[44m   \u001b[0m\u001b[44m   \u001b[0m\u001b[44m   \u001b[0m      \u001b[44m   \u001b[0m\u001b[44m   \u001b[0m\u001b[44m   \u001b[0m      \u001b[44m   \u001b[0m   \u001b[44m   \u001b[0m\u001b[44m   \u001b[0m\u001b[44m   \u001b[0m\u001b[44m   \u001b[0m \n",
      "\u001b[44m   \u001b[0m   \u001b[44m   \u001b[0m\u001b[44m   \u001b[0m      \u001b[44m   \u001b[0m\u001b[44m   \u001b[0m\u001b[44m   \u001b[0m   \u001b[44m   \u001b[0m   \u001b[44m   \u001b[0m\u001b[44m   \u001b[0m\u001b[44m   \u001b[0m\u001b[44m   \u001b[0m\u001b[44m   \u001b[0m\u001b[44m   \u001b[0m   \u001b[44m   \u001b[0m\u001b[44m   \u001b[0m\u001b[44m   \u001b[0m\u001b[44m   \u001b[0m\u001b[44m   \u001b[0m \n",
      "\u001b[44m   \u001b[0m\u001b[44m   \u001b[0m      \u001b[44m   \u001b[0m\u001b[44m   \u001b[0m   \u001b[44m   \u001b[0m\u001b[44m   \u001b[0m         \u001b[44m   \u001b[0m\u001b[44m   \u001b[0m\u001b[44m   \u001b[0m\u001b[44m   \u001b[0m   \u001b[44m   \u001b[0m         \u001b[44m   \u001b[0m\u001b[44m   \u001b[0m    \n",
      "\u001b[44m   \u001b[0m\u001b[44m   \u001b[0m\u001b[44m   \u001b[0m         \u001b[44m   \u001b[0m\u001b[44m   \u001b[0m\u001b[44m   \u001b[0m   \u001b[44m   \u001b[0m\u001b[44m   \u001b[0m   \u001b[44m   \u001b[0m\u001b[44m   \u001b[0m\u001b[44m   \u001b[0m\u001b[44m   \u001b[0m   \u001b[44m   \u001b[0m   \u001b[44m   \u001b[0m\u001b[44m   \u001b[0m       \n",
      "\u001b[44m   \u001b[0m\u001b[44m   \u001b[0m\u001b[44m   \u001b[0m\u001b[44m   \u001b[0m   \u001b[44m   \u001b[0m               \u001b[44m   \u001b[0m\u001b[44m   \u001b[0m\u001b[44m   \u001b[0m      \u001b[44m   \u001b[0m   \u001b[44m   \u001b[0m\u001b[44m   \u001b[0m\u001b[44m   \u001b[0m\u001b[44m   \u001b[0m   \u001b[44m   \u001b[0m \n",
      "\u001b[44m   \u001b[0m\u001b[44m   \u001b[0m   \u001b[44m   \u001b[0m\u001b[44m   \u001b[0m\u001b[44m   \u001b[0m\u001b[44m   \u001b[0m      \u001b[44m   \u001b[0m\u001b[44m   \u001b[0m   \u001b[44m   \u001b[0m   \u001b[44m   \u001b[0m\u001b[44m   \u001b[0m      \u001b[44m   \u001b[0m\u001b[44m   \u001b[0m   \u001b[44m   \u001b[0m   \u001b[44m   \u001b[0m \n",
      "\u001b[44m   \u001b[0m\u001b[44m   \u001b[0m\u001b[44m   \u001b[0m\u001b[44m   \u001b[0m\u001b[44m   \u001b[0m      \u001b[44m   \u001b[0m         \u001b[44m   \u001b[0m\u001b[44m   \u001b[0m\u001b[44m   \u001b[0m\u001b[44m   \u001b[0m      \u001b[44m   \u001b[0m\u001b[44m   \u001b[0m      \u001b[44m   \u001b[0m   \u001b[44m   \u001b[0m \n",
      "   \u001b[44m   \u001b[0m\u001b[44m   \u001b[0m   \u001b[44m   \u001b[0m\u001b[44m   \u001b[0m   \u001b[44m   \u001b[0m\u001b[44m   \u001b[0m         \u001b[44m   \u001b[0m\u001b[44m   \u001b[0m\u001b[44m   \u001b[0m   \u001b[44m   \u001b[0m\u001b[44m   \u001b[0m         \u001b[44m   \u001b[0m\u001b[44m   \u001b[0m\u001b[44m   \u001b[0m \n",
      "      \u001b[44m   \u001b[0m\u001b[44m   \u001b[0m\u001b[44m   \u001b[0m   \u001b[44m   \u001b[0m\u001b[44m   \u001b[0m\u001b[44m   \u001b[0m\u001b[44m   \u001b[0m\u001b[44m   \u001b[0m\u001b[44m   \u001b[0m\u001b[44m   \u001b[0m\u001b[44m   \u001b[0m   \u001b[44m   \u001b[0m   \u001b[44m   \u001b[0m\u001b[44m   \u001b[0m\u001b[44m   \u001b[0m      \u001b[44m   \u001b[0m    \n",
      "\n"
     ]
    }
   ],
   "source": [
    "\n",
    "w = World('day10.input')\n",
    "w.print_status()"
   ]
  },
  {
   "cell_type": "code",
   "execution_count": 7,
   "metadata": {},
   "outputs": [
    {
     "data": {
      "text/plain": [
       "5"
      ]
     },
     "execution_count": 7,
     "metadata": {},
     "output_type": "execute_result"
    }
   ],
   "source": [
    "np.gcd.reduce([25,35])"
   ]
  },
  {
   "cell_type": "code",
   "execution_count": null,
   "metadata": {},
   "outputs": [],
   "source": []
  }
 ],
 "metadata": {
  "kernelspec": {
   "display_name": "Python 3",
   "language": "python",
   "name": "python3"
  },
  "language_info": {
   "codemirror_mode": {
    "name": "ipython",
    "version": 3
   },
   "file_extension": ".py",
   "mimetype": "text/x-python",
   "name": "python",
   "nbconvert_exporter": "python",
   "pygments_lexer": "ipython3",
   "version": "3.7.5"
  }
 },
 "nbformat": 4,
 "nbformat_minor": 4
}
